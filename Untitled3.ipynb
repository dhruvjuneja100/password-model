{
  "nbformat": 4,
  "nbformat_minor": 0,
  "metadata": {
    "colab": {
      "provenance": [],
      "authorship_tag": "ABX9TyPGifCtYJIoW342y9a6soQe",
      "include_colab_link": true
    },
    "kernelspec": {
      "name": "python3",
      "display_name": "Python 3"
    },
    "language_info": {
      "name": "python"
    }
  },
  "cells": [
    {
      "cell_type": "markdown",
      "metadata": {
        "id": "view-in-github",
        "colab_type": "text"
      },
      "source": [
        "<a href=\"https://colab.research.google.com/github/dhruvjuneja100/password-model/blob/main/Untitled3.ipynb\" target=\"_parent\"><img src=\"https://colab.research.google.com/assets/colab-badge.svg\" alt=\"Open In Colab\"/></a>"
      ]
    },
    {
      "cell_type": "code",
      "execution_count": null,
      "metadata": {
        "id": "qAJZ6gyb_SGu"
      },
      "outputs": [],
      "source": [
        "# Import necessary libraries\n",
        "import pandas as pd\n",
        "import numpy as np\n",
        "from tensorflow.keras.models import Sequential\n",
        "from tensorflow.keras.layers import Dense, Dropout\n",
        "from sklearn.model_selection import train_test_split\n",
        "from sklearn.preprocessing import LabelEncoder\n",
        "import hashlib\n",
        "import time"
      ]
    },
    {
      "cell_type": "code",
      "source": [
        "# Load the RockYou dataset directly from the Colab environment\n",
        "file_path = '/content/rockyou.txt'  # Ensure the file is uploaded here\n",
        "with open(file_path, encoding='latin-1') as f:\n",
        "    passwords = f.read().splitlines()"
      ],
      "metadata": {
        "id": "VI0GDBgh_afx"
      },
      "execution_count": null,
      "outputs": []
    },
    {
      "cell_type": "code",
      "source": [
        "# Feature Extraction\n",
        "def password_to_features(password):\n",
        "    # Check if password is empty to avoid division by zero\n",
        "    if len(password) == 0:\n",
        "        return [0, 0, 0, 0, 0, 0]  # Return zeros for empty passwords\n",
        "    entropy = sum(-ord(char)*np.log2(ord(char)) for char in password) / len(password)\n",
        "    return [\n",
        "        len(password),  # Password Length\n",
        "        sum(char.isdigit() for char in password),  # Number of Digits\n",
        "        sum(char.isupper() for char in password),  # Number of Uppercase Letters\n",
        "        sum(char.islower() for char in password),  # Number of Lowercase Letters\n",
        "        sum(char in \"!@#$%^&*()-_+=<>?/|\\\\~`\" for char in password),  # Special Characters\n",
        "        entropy  # Entropy Metric\n",
        "    ]"
      ],
      "metadata": {
        "id": "TQK9U_Xq_hGJ"
      },
      "execution_count": null,
      "outputs": []
    },
    {
      "cell_type": "code",
      "source": [
        "\n",
        "# Filter out any empty passwords from the dataset before generating features\n",
        "passwords = [p for p in passwords if p.strip()]"
      ],
      "metadata": {
        "id": "JeZfeO1P_kUn"
      },
      "execution_count": null,
      "outputs": []
    },
    {
      "cell_type": "code",
      "source": [
        "# Generate features and labels\n",
        "X = np.array([password_to_features(p) for p in passwords])\n",
        "y = np.array(['weak' if len(p) < 8 else 'strong' for p in passwords])  # Simple label for demonstration"
      ],
      "metadata": {
        "id": "RTuisqhz_pDi"
      },
      "execution_count": null,
      "outputs": []
    },
    {
      "cell_type": "code",
      "source": [
        "# Encode labels\n",
        "label_encoder = LabelEncoder()\n",
        "y = label_encoder.fit_transform(y)"
      ],
      "metadata": {
        "id": "DIutDhpj_thj"
      },
      "execution_count": null,
      "outputs": []
    },
    {
      "cell_type": "code",
      "source": [
        "# Split data into training and testing sets\n",
        "X_train, X_test, y_train, y_test = train_test_split(X, y, test_size=0.2, random_state=42)"
      ],
      "metadata": {
        "id": "q0209JJt_woc"
      },
      "execution_count": null,
      "outputs": []
    },
    {
      "cell_type": "code",
      "source": [
        "# Build the ML model\n",
        "model = Sequential([\n",
        "    Dense(128, activation='relu', input_shape=(X_train.shape[1],)),\n",
        "    Dropout(0.5),\n",
        "    Dense(64, activation='relu'),\n",
        "    Dense(1, activation='sigmoid')  # Binary classification\n",
        "])"
      ],
      "metadata": {
        "colab": {
          "base_uri": "https://localhost:8080/"
        },
        "id": "JPVvnRxL_0IR",
        "outputId": "84bad444-b4e5-4812-fb49-2ea68863a82c"
      },
      "execution_count": null,
      "outputs": [
        {
          "output_type": "stream",
          "name": "stderr",
          "text": [
            "/usr/local/lib/python3.11/dist-packages/keras/src/layers/core/dense.py:87: UserWarning: Do not pass an `input_shape`/`input_dim` argument to a layer. When using Sequential models, prefer using an `Input(shape)` object as the first layer in the model instead.\n",
            "  super().__init__(activity_regularizer=activity_regularizer, **kwargs)\n"
          ]
        }
      ]
    },
    {
      "cell_type": "code",
      "source": [
        "# Compile the model\n",
        "model.compile(optimizer='adam', loss='binary_crossentropy', metrics=['accuracy'])"
      ],
      "metadata": {
        "id": "oMB3J_4Y_5cd"
      },
      "execution_count": null,
      "outputs": []
    },
    {
      "cell_type": "code",
      "source": [
        "# Train the model\n",
        "model.fit(X_train, y_train, epochs=10, batch_size=128, validation_data=(X_test, y_test))  # Reduced epochs for speed"
      ],
      "metadata": {
        "colab": {
          "base_uri": "https://localhost:8080/"
        },
        "id": "03phpyyt_8GO",
        "outputId": "f7b67e5e-0a23-4245-ddf0-1345bfe52d78"
      },
      "execution_count": null,
      "outputs": [
        {
          "output_type": "stream",
          "name": "stdout",
          "text": [
            "Epoch 1/10\n",
            "\u001b[1m37007/37007\u001b[0m \u001b[32m━━━━━━━━━━━━━━━━━━━━\u001b[0m\u001b[37m\u001b[0m \u001b[1m128s\u001b[0m 3ms/step - accuracy: 0.9463 - loss: 0.3206 - val_accuracy: 0.8276 - val_loss: 0.4582\n",
            "Epoch 2/10\n",
            "\u001b[1m37007/37007\u001b[0m \u001b[32m━━━━━━━━━━━━━━━━━━━━\u001b[0m\u001b[37m\u001b[0m \u001b[1m132s\u001b[0m 3ms/step - accuracy: 0.9895 - loss: 0.0377 - val_accuracy: 0.6272 - val_loss: 4.7119\n",
            "Epoch 3/10\n",
            "\u001b[1m37007/37007\u001b[0m \u001b[32m━━━━━━━━━━━━━━━━━━━━\u001b[0m\u001b[37m\u001b[0m \u001b[1m112s\u001b[0m 3ms/step - accuracy: 0.9915 - loss: 0.0238 - val_accuracy: 0.6282 - val_loss: 6.9568\n",
            "Epoch 4/10\n",
            "\u001b[1m37007/37007\u001b[0m \u001b[32m━━━━━━━━━━━━━━━━━━━━\u001b[0m\u001b[37m\u001b[0m \u001b[1m151s\u001b[0m 3ms/step - accuracy: 0.9904 - loss: 0.0270 - val_accuracy: 0.6096 - val_loss: 8.8162\n",
            "Epoch 5/10\n",
            "\u001b[1m37007/37007\u001b[0m \u001b[32m━━━━━━━━━━━━━━━━━━━━\u001b[0m\u001b[37m\u001b[0m \u001b[1m141s\u001b[0m 3ms/step - accuracy: 0.9938 - loss: 0.0188 - val_accuracy: 0.6291 - val_loss: 10.2034\n",
            "Epoch 6/10\n",
            "\u001b[1m37007/37007\u001b[0m \u001b[32m━━━━━━━━━━━━━━━━━━━━\u001b[0m\u001b[37m\u001b[0m \u001b[1m143s\u001b[0m 3ms/step - accuracy: 0.9957 - loss: 0.0134 - val_accuracy: 0.6189 - val_loss: 10.7272\n",
            "Epoch 7/10\n",
            "\u001b[1m37007/37007\u001b[0m \u001b[32m━━━━━━━━━━━━━━━━━━━━\u001b[0m\u001b[37m\u001b[0m \u001b[1m143s\u001b[0m 3ms/step - accuracy: 0.9953 - loss: 0.0138 - val_accuracy: 0.6156 - val_loss: 11.9556\n",
            "Epoch 8/10\n",
            "\u001b[1m37007/37007\u001b[0m \u001b[32m━━━━━━━━━━━━━━━━━━━━\u001b[0m\u001b[37m\u001b[0m \u001b[1m141s\u001b[0m 3ms/step - accuracy: 0.9968 - loss: 0.0100 - val_accuracy: 0.5582 - val_loss: 12.9275\n",
            "Epoch 9/10\n",
            "\u001b[1m37007/37007\u001b[0m \u001b[32m━━━━━━━━━━━━━━━━━━━━\u001b[0m\u001b[37m\u001b[0m \u001b[1m143s\u001b[0m 3ms/step - accuracy: 0.9970 - loss: 0.0102 - val_accuracy: 0.6302 - val_loss: 10.5586\n",
            "Epoch 10/10\n",
            "\u001b[1m37007/37007\u001b[0m \u001b[32m━━━━━━━━━━━━━━━━━━━━\u001b[0m\u001b[37m\u001b[0m \u001b[1m120s\u001b[0m 3ms/step - accuracy: 0.9977 - loss: 0.0080 - val_accuracy: 0.6230 - val_loss: 12.1455\n"
          ]
        },
        {
          "output_type": "execute_result",
          "data": {
            "text/plain": [
              "<keras.src.callbacks.history.History at 0x7ba7531b8390>"
            ]
          },
          "metadata": {},
          "execution_count": 10
        }
      ]
    },
    {
      "cell_type": "code",
      "source": [
        "# Evaluate the model\n",
        "loss, accuracy = model.evaluate(X_test, y_test)\n",
        "print(f\"Test Accuracy: {accuracy}\")"
      ],
      "metadata": {
        "colab": {
          "base_uri": "https://localhost:8080/"
        },
        "id": "c5ykqSvFAEqt",
        "outputId": "61a58027-7477-4c24-b9dc-918211fcbcda"
      },
      "execution_count": null,
      "outputs": [
        {
          "output_type": "stream",
          "name": "stdout",
          "text": [
            "\u001b[1m37007/37007\u001b[0m \u001b[32m━━━━━━━━━━━━━━━━━━━━\u001b[0m\u001b[37m\u001b[0m \u001b[1m62s\u001b[0m 2ms/step - accuracy: 0.6233 - loss: 12.1387\n",
            "Test Accuracy: 0.6229566335678101\n"
          ]
        }
      ]
    },
    {
      "cell_type": "code",
      "source": [
        "# Save the trained model in the current environment\n",
        "model.save('/content/password_strength_model.h5')"
      ],
      "metadata": {
        "colab": {
          "base_uri": "https://localhost:8080/"
        },
        "id": "TYHgzx0NAJfD",
        "outputId": "f5e7f589-0bef-4d4c-d6eb-b21a224a8a3a"
      },
      "execution_count": null,
      "outputs": [
        {
          "output_type": "stream",
          "name": "stderr",
          "text": [
            "WARNING:absl:You are saving your model as an HDF5 file via `model.save()` or `keras.saving.save_model(model)`. This file format is considered legacy. We recommend using instead the native Keras format, e.g. `model.save('my_model.keras')` or `keras.saving.save_model(model, 'my_model.keras')`. \n"
          ]
        }
      ]
    },
    {
      "cell_type": "code",
      "source": [
        "# Function to calculate time-to-crack\n",
        "def time_to_crack(password):\n",
        "    start_time = time.time()\n",
        "    hashed_password = hashlib.sha256(password.encode()).hexdigest()\n",
        "    time_elapsed = time.time() - start_time\n",
        "    return f\"Estimated time-to-crack (simulation): {time_elapsed:.6f} seconds.\""
      ],
      "metadata": {
        "id": "RqoAxU-QAQSg"
      },
      "execution_count": null,
      "outputs": []
    },
    {
      "cell_type": "code",
      "source": [
        "# Suggest improved passwords\n",
        "def suggest_password(password):\n",
        "    hashed = hashlib.sha256(password.encode()).hexdigest()  # Hashing for simulation\n",
        "    suggestions = \"\".join(\n",
        "        char.upper() if char.islower() else char.lower() for char in password[::-1]\n",
        "    ) + \"!#\"\n",
        "    entropy = sum(-ord(char)*np.log2(ord(char)) for char in password) / len(password)\n",
        "    print(f\"Original: {password}\\nHashed: {hashed}\\nSuggested: {suggestions}\\nEntropy: {entropy:.2f}\")"
      ],
      "metadata": {
        "id": "4oh1vVuDAcjC"
      },
      "execution_count": null,
      "outputs": []
    },
    {
      "cell_type": "code",
      "source": [
        "# Example usage\n",
        "example_password = \"Summer2024\"\n",
        "print(time_to_crack(example_password))  # Display time-to-crack estimate\n",
        "suggest_password(example_password)      # Suggest improved password"
      ],
      "metadata": {
        "colab": {
          "base_uri": "https://localhost:8080/"
        },
        "id": "3vr1T59jAg4-",
        "outputId": "fff610e5-5502-47e4-913e-02f8c4416d9d"
      },
      "execution_count": null,
      "outputs": [
        {
          "output_type": "stream",
          "name": "stdout",
          "text": [
            "Estimated time-to-crack (simulation): 0.000050 seconds.\n",
            "Original: Summer2024\n",
            "Hashed: adfab358825331b18d79db5289eabf28a16bc1fc5fea3646a0c1f59bc358e557\n",
            "Suggested: 4202REMMUs!#\n",
            "Entropy: -538.87\n"
          ]
        }
      ]
    }
  ]
}